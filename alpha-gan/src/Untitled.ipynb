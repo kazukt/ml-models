{
 "cells": [
  {
   "cell_type": "code",
   "execution_count": 1,
   "metadata": {},
   "outputs": [],
   "source": [
    "import numpy as np"
   ]
  },
  {
   "cell_type": "code",
   "execution_count": 4,
   "metadata": {},
   "outputs": [],
   "source": [
    "def sigmoid_cross_entropy(labels, logits):\n",
    "    zeros = np.zeros_like(logits, dtype=logits.dtype)\n",
    "    cond = logits >= zeros\n",
    "    relu_logits = np.where(cond, logits, zeros)\n",
    "    neg_abs_logits = np.where(cond, - logits, logits)\n",
    "    return relu_logits - logits * labels + np.log1p(np.exp(neg_abs_logits))"
   ]
  },
  {
   "cell_type": "code",
   "execution_count": 3,
   "metadata": {},
   "outputs": [],
   "source": [
    "discriminator_real_outputs = np.array([-5.0, 1.4, 12.5, 2.7])\n",
    "discriminator_gen_outputs = np.array([10.0, 4.4, -5.5, 3.6])"
   ]
  },
  {
   "cell_type": "code",
   "execution_count": 6,
   "metadata": {},
   "outputs": [
    {
     "data": {
      "text/plain": [
       "5.83386589165402"
      ]
     },
     "execution_count": 6,
     "metadata": {},
     "output_type": "execute_result"
    }
   ],
   "source": [
    "np.mean(sigmoid_cross_entropy(np.ones_like(discriminator_real_outputs), discriminator_real_outputs) \n",
    "                + sigmoid_cross_entropy(np.zeros_like(discriminator_gen_outputs), discriminator_gen_outputs))"
   ]
  },
  {
   "cell_type": "code",
   "execution_count": 7,
   "metadata": {},
   "outputs": [
    {
     "data": {
      "text/plain": [
       "1.385820879946423"
      ]
     },
     "execution_count": 7,
     "metadata": {},
     "output_type": "execute_result"
    }
   ],
   "source": [
    "np.mean(sigmoid_cross_entropy(np.ones_like(discriminator_gen_outputs), discriminator_gen_outputs))"
   ]
  },
  {
   "cell_type": "code",
   "execution_count": 19,
   "metadata": {},
   "outputs": [
    {
     "name": "stdout",
     "output_type": "stream",
     "text": [
      "[-1 -2]\n"
     ]
    }
   ],
   "source": [
    "x = tf.negative([1, 2])\n",
    "with tf.Session() as sess:\n",
    "    print(sess.run(x))"
   ]
  }
 ],
 "metadata": {
  "kernelspec": {
   "display_name": "Python 3",
   "language": "python",
   "name": "python3"
  },
  "language_info": {
   "codemirror_mode": {
    "name": "ipython",
    "version": 3
   },
   "file_extension": ".py",
   "mimetype": "text/x-python",
   "name": "python",
   "nbconvert_exporter": "python",
   "pygments_lexer": "ipython3",
   "version": "3.6.3"
  }
 },
 "nbformat": 4,
 "nbformat_minor": 2
}
